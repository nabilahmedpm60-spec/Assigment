{
 "cells": [
  {
   "cell_type": "markdown",
   "id": "5f73ebac",
   "metadata": {},
   "source": [
    "### Question 1\n",
    "Write a Python program to print the numbers from 1 to 10 using a for loop."
   ]
  },
  {
   "cell_type": "code",
   "execution_count": null,
   "id": "f3f1522e",
   "metadata": {},
   "outputs": [],
   "source": [
    "\n",
    "for i in range(1, 11):\n",
    "    print(i, end=' ')\n"
   ]
  },
  {
   "cell_type": "markdown",
   "id": "91d5d6f2",
   "metadata": {},
   "source": [
    "### Question 2\n",
    "Write a Python program to print the numbers from 20 to 1 using a while loop."
   ]
  },
  {
   "cell_type": "code",
   "execution_count": null,
   "id": "c3a1cf0a",
   "metadata": {},
   "outputs": [],
   "source": [
    "\n",
    "num = 20\n",
    "while num >= 1:\n",
    "    print(num, end=' ')\n",
    "    num -= 1\n"
   ]
  },
  {
   "cell_type": "markdown",
   "id": "968215bb",
   "metadata": {},
   "source": [
    "### Question 3\n",
    "Write a program to print even numbers from 1 to 10."
   ]
  },
  {
   "cell_type": "code",
   "execution_count": null,
   "id": "f3640777",
   "metadata": {},
   "outputs": [],
   "source": [
    "\n",
    "for i in range(1, 11):\n",
    "    if i % 2 == 0:\n",
    "        print(i, end=' ')\n"
   ]
  },
  {
   "cell_type": "markdown",
   "id": "9add7e83",
   "metadata": {},
   "source": [
    "### Question 4\n",
    "Prompt the user to enter a number n and print all numbers from 1 to n."
   ]
  },
  {
   "cell_type": "code",
   "execution_count": null,
   "id": "a8affaf4",
   "metadata": {},
   "outputs": [],
   "source": [
    "\n",
    "n = int(input(\"Enter a number: \"))\n",
    "for i in range(1, n + 1):\n",
    "    print(i, end=' ')\n"
   ]
  },
  {
   "cell_type": "markdown",
   "id": "62eaf053",
   "metadata": {},
   "source": [
    "### Question 5\n",
    "Prompt the user to enter a number n, and then print all odd numbers between 1 and n."
   ]
  },
  {
   "cell_type": "code",
   "execution_count": null,
   "id": "cc2ae2e7",
   "metadata": {},
   "outputs": [],
   "source": [
    "\n",
    "n = int(input(\"Enter a number: \"))\n",
    "for i in range(1, n + 1):\n",
    "    if i % 2 != 0:\n",
    "        print(i, end=' ')\n"
   ]
  },
  {
   "cell_type": "markdown",
   "id": "b0fef47e",
   "metadata": {},
   "source": [
    "### Question 6\n",
    "Write a program that prints 'Happy Birthday!' five times."
   ]
  },
  {
   "cell_type": "code",
   "execution_count": null,
   "id": "ff1effea",
   "metadata": {},
   "outputs": [],
   "source": [
    "\n",
    "for i in range(5):\n",
    "    print(\"Happy Birthday!\")\n"
   ]
  },
  {
   "cell_type": "markdown",
   "id": "e294af69",
   "metadata": {},
   "source": [
    "### Question 7\n",
    "Generate the first n terms of the series formed by squaring natural numbers."
   ]
  },
  {
   "cell_type": "code",
   "execution_count": null,
   "id": "515aabf6",
   "metadata": {},
   "outputs": [],
   "source": [
    "\n",
    "n = int(input(\"Enter a number: \"))\n",
    "print(f\"The first {n} terms of the series are:\")\n",
    "for i in range(1, n + 1):\n",
    "    print(i ** 2, end=' ')\n"
   ]
  },
  {
   "cell_type": "markdown",
   "id": "917865c4",
   "metadata": {},
   "source": [
    "### Question 8\n",
    "Print the multiplication table of a given number."
   ]
  },
  {
   "cell_type": "code",
   "execution_count": null,
   "id": "4662097c",
   "metadata": {},
   "outputs": [],
   "source": [
    "\n",
    "num = int(input(\"Enter a number: \"))\n",
    "print(f\"\\nMultiplication table of {num}:\")\n",
    "for i in range(1, 11):\n",
    "    print(f\"{num} x {i} = {num * i}\")\n"
   ]
  },
  {
   "cell_type": "markdown",
   "id": "2420ba88",
   "metadata": {},
   "source": [
    "### Question 9\n",
    "Print the first 8 terms of an arithmetic progression starting with 3 and having a common difference of 4."
   ]
  },
  {
   "cell_type": "code",
   "execution_count": null,
   "id": "afbf7c37",
   "metadata": {},
   "outputs": [],
   "source": [
    "\n",
    "first_term = 3\n",
    "common_difference = 4\n",
    "terms = 8\n",
    "\n",
    "for i in range(terms):\n",
    "    term = first_term + (i * common_difference)\n",
    "    print(term, end=' ')\n"
   ]
  },
  {
   "cell_type": "markdown",
   "id": "842bef7c",
   "metadata": {},
   "source": [
    "### Question 10\n",
    "Print the first 6 terms of a geometric sequence starting with 2 and having a common ratio of 3."
   ]
  },
  {
   "cell_type": "code",
   "execution_count": null,
   "id": "231e58b3",
   "metadata": {},
   "outputs": [],
   "source": [
    "\n",
    "first_term = 2\n",
    "common_ratio = 3\n",
    "terms = 6\n",
    "\n",
    "for i in range(terms):\n",
    "    term = first_term * (common_ratio ** i)\n",
    "    print(term, end=' ')\n"
   ]
  },
  {
   "cell_type": "markdown",
   "id": "5a153ba6",
   "metadata": {},
   "source": [
    "### Question 11\n",
    "Calculate the sum of all integers from 1 up to a user-entered positive integer."
   ]
  },
  {
   "cell_type": "code",
   "execution_count": null,
   "id": "0270dd6b",
   "metadata": {},
   "outputs": [],
   "source": [
    "\n",
    "num = int(input(\"Enter a positive integer: \"))\n",
    "total = 0\n",
    "for i in range(1, num + 1):\n",
    "    total += i\n",
    "print(f\"The sum of all integers from 1 to {num} is: {total}\")\n"
   ]
  },
  {
   "cell_type": "markdown",
   "id": "33c75366",
   "metadata": {},
   "source": [
    "### Question 12\n",
    "Calculate the sum of reciprocals of numbers from 1 up to N."
   ]
  },
  {
   "cell_type": "code",
   "execution_count": null,
   "id": "a5cea982",
   "metadata": {},
   "outputs": [],
   "source": [
    "\n",
    "N = int(input(\"Enter a positive integer: \"))\n",
    "sum_reciprocals = 0\n",
    "\n",
    "for i in range(1, N + 1):\n",
    "    sum_reciprocals += 1 / i\n",
    "\n",
    "print(f\"The sum of reciprocals from 1 to {N} is: {sum_reciprocals:.2f}\")\n"
   ]
  },
  {
   "cell_type": "markdown",
   "id": "8c98223a",
   "metadata": {},
   "source": [
    "### Question 13\n",
    "Prompt user 5 times to enter a number and display the running total."
   ]
  },
  {
   "cell_type": "code",
   "execution_count": null,
   "id": "869a794d",
   "metadata": {},
   "outputs": [],
   "source": [
    "\n",
    "total = 0\n",
    "\n",
    "for i in range(5):\n",
    "    num = int(input(\"Enter a number: \"))\n",
    "    total += num\n",
    "\n",
    "print(f\"The final running total is: {total}\")\n"
   ]
  },
  {
   "cell_type": "markdown",
   "id": "4b57b62a",
   "metadata": {},
   "source": [
    "### Question 14\n",
    "Calculate factorial of a given number."
   ]
  },
  {
   "cell_type": "code",
   "execution_count": null,
   "id": "d3b9736a",
   "metadata": {},
   "outputs": [],
   "source": [
    "\n",
    "num = int(input(\"Enter a number: \"))\n",
    "\n",
    "if num < 0:\n",
    "    print(\"Factorial does not exist for negative numbers.\")\n",
    "elif num == 0:\n",
    "    print(\"The factorial of 0 is 1.\")\n",
    "else:\n",
    "    factorial = 1\n",
    "    for i in range(1, num + 1):\n",
    "        factorial *= i\n",
    "    print(f\"The factorial of {num} is: {factorial}\")\n"
   ]
  },
  {
   "cell_type": "markdown",
   "id": "395f2766",
   "metadata": {},
   "source": [
    "### Question 15\n",
    "Calculate power of a number without using ** or math.pow()."
   ]
  },
  {
   "cell_type": "code",
   "execution_count": null,
   "id": "2e6994d2",
   "metadata": {},
   "outputs": [],
   "source": [
    "\n",
    "base = float(input(\"Enter the base number: \"))\n",
    "exponent = int(input(\"Enter the exponent: \"))\n",
    "\n",
    "result = 1\n",
    "abs_exponent = abs(exponent)\n",
    "\n",
    "for i in range(abs_exponent):\n",
    "    result *= base\n",
    "\n",
    "if exponent < 0:\n",
    "    result = 1 / result\n",
    "\n",
    "print(f\"{base} raised to the power {exponent} is: {result}\")\n"
   ]
  }
 ],
 "metadata": {},
 "nbformat": 4,
 "nbformat_minor": 5
}
