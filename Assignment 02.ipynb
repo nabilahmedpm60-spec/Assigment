{
 "cells": [
  {
   "cell_type": "markdown",
   "id": "06e36a77-467c-4ea4-bc7e-0fb556954bdb",
   "metadata": {},
   "source": [
    "# Strings Assignment"
   ]
  },
  {
   "cell_type": "markdown",
   "id": "2c0712f2-3174-44e2-ad4f-c0351af33d0a",
   "metadata": {},
   "source": [
    "#### 1 .  Write a program that accepts a string from user. Your program should count and display number of vowels in that string. "
   ]
  },
  {
   "cell_type": "code",
   "execution_count": null,
   "id": "4e83383b-b9eb-4718-9a8d-2edfc4fc2f41",
   "metadata": {},
   "outputs": [],
   "source": [
    "# Write your code here\n"
   ]
  },
  {
   "cell_type": "markdown",
   "id": "728aa652-7870-4b09-8631-51825b2ef246",
   "metadata": {},
   "source": [
    "#### 2. Write a program that reads a string from keyboard and display: \n",
    "* The number of uppercase letters in the string \n",
    "* The number of lowercase letters in the string \n",
    "* The number of digits in the string \n",
    "* The number of whitespace characters in the string  "
   ]
  },
  {
   "cell_type": "code",
   "execution_count": null,
   "id": "32556ca2-7790-4807-b3ea-5632f284dac4",
   "metadata": {},
   "outputs": [],
   "source": [
    "# Write your code here\n"
   ]
  },
  {
   "cell_type": "markdown",
   "id": "7b75bce8-18b3-4889-a3e7-19fbd67a61a4",
   "metadata": {},
   "source": [
    "#### 3. Write a Python program that accepts a string from user. Your program should create and display a new string where the first and last characters have been exchanged. \n",
    "##### For example if the user enters the string 'HELLO' then new string would be 'OELLH' "
   ]
  },
  {
   "cell_type": "code",
   "execution_count": null,
   "id": "ab7529af-be80-4457-a433-b0a034a8b59f",
   "metadata": {},
   "outputs": [],
   "source": [
    "# Write your code here\n"
   ]
  },
  {
   "cell_type": "markdown",
   "id": "1f79fbe1-ab73-49d5-b4e3-97cd0dc11dd8",
   "metadata": {},
   "source": [
    "#### 4. Write a Python program that accepts a string from user. Your program should create a new string in reverse of first string and display it. \n",
    "##### For example if the user enters the string 'EXAM' then new string would be 'MAXE'  "
   ]
  },
  {
   "cell_type": "code",
   "execution_count": null,
   "id": "28e33af5-4790-48e1-9718-1b01320a6f46",
   "metadata": {},
   "outputs": [],
   "source": [
    "# Write your code here\n"
   ]
  },
  {
   "cell_type": "markdown",
   "id": "a68267c7-727c-48e0-a1f1-4e1a8c510872",
   "metadata": {},
   "source": [
    "#### 5. Write a Python program that accepts a string from user. Your program should create a new string by shifting one position to left. \n",
    "##### For example if the user enters the string 'examination 2021' then new string would be 'xamination 2021e'  "
   ]
  },
  {
   "cell_type": "code",
   "execution_count": null,
   "id": "9dc33db7-211c-44ca-b896-bba77fee9b97",
   "metadata": {},
   "outputs": [],
   "source": [
    "# Write your code here\n"
   ]
  },
  {
   "cell_type": "markdown",
   "id": "6c01b7af-d9c9-4236-ad7e-aa6b88a5b403",
   "metadata": {},
   "source": [
    "#### 6. Write a program that asks the user to input his name and print its initials. Assuming that the user always types first name, middle name and last name and does not include any unnecessary spaces. \n",
    "##### For example, if the user enters Ajay Kumar Garg the program should display A. K. G.\n",
    "##### Note:Don't use split() method  "
   ]
  },
  {
   "cell_type": "code",
   "execution_count": null,
   "id": "37ed6709-3bf4-4cec-9924-616b95ac980d",
   "metadata": {},
   "outputs": [],
   "source": [
    "# Write your code here\n"
   ]
  },
  {
   "cell_type": "markdown",
   "id": "6c8cf88f-61e7-48d7-b81e-d0cd62dc8b84",
   "metadata": {},
   "source": [
    "#### 7. A palindrome is a string that reads the same backward as forward. For example, the words dad, madam and radar are all palindromes. Write a programs that determines whether the string is a palindrome. \n",
    "##### Note: do not use reverse() method  "
   ]
  },
  {
   "cell_type": "code",
   "execution_count": null,
   "id": "7f138cb8-9647-43df-9adf-7890962139d0",
   "metadata": {},
   "outputs": [],
   "source": [
    "# Write your code here\n"
   ]
  },
  {
   "cell_type": "markdown",
   "id": "f2e83626-d5cc-496a-b175-d9e3b72e4092",
   "metadata": {},
   "source": [
    "#### 8. Write a program that display following output: \n",
    "- SHIFT \n",
    "- HIFTS \n",
    "- IFTSH \n",
    "- FTSHI \n",
    "- TSHIF \n",
    "- SHIFT "
   ]
  },
  {
   "cell_type": "code",
   "execution_count": null,
   "id": "a16f7082-0cb9-4de4-b01c-d47c0d2fa9ee",
   "metadata": {},
   "outputs": [],
   "source": [
    "# Write your code here\n"
   ]
  }
 ],
 "metadata": {
  "kernelspec": {
   "display_name": "Python (anaconda)",
   "language": "python",
   "name": "anaconda"
  },
  "language_info": {
   "codemirror_mode": {
    "name": "ipython",
    "version": 3
   },
   "file_extension": ".py",
   "mimetype": "text/x-python",
   "name": "python",
   "nbconvert_exporter": "python",
   "pygments_lexer": "ipython3",
   "version": "3.13.5"
  }
 },
 "nbformat": 4,
 "nbformat_minor": 5
}
