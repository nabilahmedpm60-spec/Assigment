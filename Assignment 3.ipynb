{
 "cells": [
  {
   "cell_type": "markdown",
   "id": "e10df297",
   "metadata": {},
   "source": [
    "### Question 1\n",
    "Write a program that accepts a list from user and print the alternate element of list."
   ]
  },
  {
   "cell_type": "code",
   "execution_count": null,
   "id": "93568061",
   "metadata": {},
   "outputs": [],
   "source": [
    "\n",
    "user_list = input(\"Enter list elements separated by spaces: \").split()\n",
    "print(\"Alternate elements:\", user_list[::2])\n"
   ]
  },
  {
   "cell_type": "markdown",
   "id": "c2085b8b",
   "metadata": {},
   "source": [
    "### Question 2\n",
    "Reverse list content without using reverse() method."
   ]
  },
  {
   "cell_type": "code",
   "execution_count": null,
   "id": "14a00a4b",
   "metadata": {},
   "outputs": [],
   "source": [
    "\n",
    "user_list = input(\"Enter list elements separated by spaces: \").split()\n",
    "reversed_list = user_list[::-1]\n",
    "print(\"Reversed list:\", reversed_list)\n"
   ]
  },
  {
   "cell_type": "markdown",
   "id": "c9b59749",
   "metadata": {},
   "source": [
    "### Question 3\n",
    "Find largest number in a list without using max()."
   ]
  },
  {
   "cell_type": "code",
   "execution_count": null,
   "id": "88dc7ed4",
   "metadata": {},
   "outputs": [],
   "source": [
    "\n",
    "numbers = [int(x) for x in input(\"Enter numbers separated by spaces: \").split()]\n",
    "largest = numbers[0]\n",
    "for num in numbers:\n",
    "    if num > largest:\n",
    "        largest = num\n",
    "print(\"Largest number:\", largest)\n"
   ]
  },
  {
   "cell_type": "markdown",
   "id": "80db32e9",
   "metadata": {},
   "source": [
    "### Question 4\n",
    "Rotate list elements (last becomes first)."
   ]
  },
  {
   "cell_type": "code",
   "execution_count": null,
   "id": "cf874744",
   "metadata": {},
   "outputs": [],
   "source": [
    "\n",
    "lst = input(\"Enter list elements separated by spaces: \").split()\n",
    "rotated = [lst[-1]] + lst[:-1]\n",
    "print(\"Rotated list:\", rotated)\n"
   ]
  },
  {
   "cell_type": "markdown",
   "id": "43a8b4b9",
   "metadata": {},
   "source": [
    "### Question 5\n",
    "Delete a given word from a string."
   ]
  },
  {
   "cell_type": "code",
   "execution_count": null,
   "id": "5d13f799",
   "metadata": {},
   "outputs": [],
   "source": [
    "\n",
    "text = input(\"Enter a sentence: \")\n",
    "word = input(\"Enter word to delete: \")\n",
    "new_text = text.replace(word, \"\")\n",
    "print(\"Updated string:\", new_text.strip())\n"
   ]
  },
  {
   "cell_type": "markdown",
   "id": "c18a62ef",
   "metadata": {},
   "source": [
    "### Question 6\n",
    "Convert date from mm/dd/yyyy to Month Day, Year."
   ]
  },
  {
   "cell_type": "code",
   "execution_count": null,
   "id": "931b03dd",
   "metadata": {},
   "outputs": [],
   "source": [
    "\n",
    "date_input = input(\"Enter date in mm/dd/yyyy format: \")\n",
    "months = [\"January\", \"February\", \"March\", \"April\", \"May\", \"June\",\n",
    "          \"July\", \"August\", \"September\", \"October\", \"November\", \"December\"]\n",
    "month, day, year = date_input.split(\"/\")\n",
    "print(f\"{months[int(month)-1]} {int(day)}, {year}\")\n"
   ]
  },
  {
   "cell_type": "markdown",
   "id": "021bee26",
   "metadata": {},
   "source": [
    "### Question 7\n",
    "Capitalize first letter of each word."
   ]
  },
  {
   "cell_type": "code",
   "execution_count": null,
   "id": "d46c2d82",
   "metadata": {},
   "outputs": [],
   "source": [
    "\n",
    "def capitalize_words(sentence):\n",
    "    words = sentence.split()\n",
    "    capitalized = [word.capitalize() for word in words]\n",
    "    return \" \".join(capitalized)\n",
    "\n",
    "text = input(\"Enter a sentence: \")\n",
    "print(\"Capitalized:\", capitalize_words(text))\n"
   ]
  },
  {
   "cell_type": "markdown",
   "id": "6370e6a6",
   "metadata": {},
   "source": [
    "### Question 8\n",
    "Find sum of each row of matrix."
   ]
  },
  {
   "cell_type": "code",
   "execution_count": null,
   "id": "0a16d1f0",
   "metadata": {},
   "outputs": [],
   "source": [
    "\n",
    "m = int(input(\"Enter number of rows: \"))\n",
    "n = int(input(\"Enter number of columns: \"))\n",
    "\n",
    "matrix = []\n",
    "for i in range(m):\n",
    "    row = [int(x) for x in input(f\"Enter elements of row {i+1}: \").split()]\n",
    "    matrix.append(row)\n",
    "\n",
    "for i in range(m):\n",
    "    print(f\"Sum of row {i+1} =\", sum(matrix[i]))\n"
   ]
  },
  {
   "cell_type": "markdown",
   "id": "af6cc38e",
   "metadata": {},
   "source": [
    "### Question 9\n",
    "Add two matrices."
   ]
  },
  {
   "cell_type": "code",
   "execution_count": null,
   "id": "7847fb81",
   "metadata": {},
   "outputs": [],
   "source": [
    "\n",
    "n = int(input(\"Enter number of rows: \"))\n",
    "m = int(input(\"Enter number of columns: \"))\n",
    "\n",
    "print(\"Enter first matrix:\")\n",
    "A = [[int(x) for x in input().split()] for _ in range(n)]\n",
    "\n",
    "print(\"Enter second matrix:\")\n",
    "B = [[int(x) for x in input().split()] for _ in range(n)]\n",
    "\n",
    "result = [[A[i][j] + B[i][j] for j in range(m)] for i in range(n)]\n",
    "\n",
    "print(\"Resultant matrix:\")\n",
    "for row in result:\n",
    "    print(row)\n"
   ]
  },
  {
   "cell_type": "markdown",
   "id": "3dfc4a0b",
   "metadata": {},
   "source": [
    "### Question 10\n",
    "Multiply two matrices."
   ]
  },
  {
   "cell_type": "code",
   "execution_count": null,
   "id": "f8c43880",
   "metadata": {},
   "outputs": [],
   "source": [
    "\n",
    "n = int(input(\"Enter number of rows of first matrix: \"))\n",
    "m = int(input(\"Enter number of columns of first matrix: \"))\n",
    "p = int(input(\"Enter number of columns of second matrix: \"))\n",
    "\n",
    "print(\"Enter first matrix:\")\n",
    "A = [[int(x) for x in input().split()] for _ in range(n)]\n",
    "\n",
    "print(\"Enter second matrix:\")\n",
    "B = [[int(x) for x in input().split()] for _ in range(m)]\n",
    "\n",
    "result = [[sum(A[i][k] * B[k][j] for k in range(m)) for j in range(p)] for i in range(n)]\n",
    "\n",
    "print(\"Resultant matrix:\")\n",
    "for row in result:\n",
    "    print(row)\n"
   ]
  }
 ],
 "metadata": {},
 "nbformat": 4,
 "nbformat_minor": 5
}
